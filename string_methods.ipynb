{
  "nbformat": 4,
  "nbformat_minor": 0,
  "metadata": {
    "colab": {
      "provenance": [],
      "authorship_tag": "ABX9TyNDnAPmRGlnbUgjyUim4zXv",
      "include_colab_link": true
    },
    "kernelspec": {
      "name": "python3",
      "display_name": "Python 3"
    },
    "language_info": {
      "name": "python"
    }
  },
  "cells": [
    {
      "cell_type": "markdown",
      "metadata": {
        "id": "view-in-github",
        "colab_type": "text"
      },
      "source": [
        "<a href=\"https://colab.research.google.com/github/Aashish9593/Sales-and-Inventory-Analysis---Fryut-Dataset/blob/main/string_methods.ipynb\" target=\"_parent\"><img src=\"https://colab.research.google.com/assets/colab-badge.svg\" alt=\"Open In Colab\"/></a>"
      ]
    },
    {
      "cell_type": "markdown",
      "source": [
        "# String Methods\n"
      ],
      "metadata": {
        "id": "cYiYHpd8qYOs"
      }
    },
    {
      "cell_type": "markdown",
      "source": [
        "# upper(): The upper() method converts a string to upper case."
      ],
      "metadata": {
        "id": "MvVYvPMNql-7"
      }
    },
    {
      "cell_type": "code",
      "source": [
        "str1 = \"ABCderGHIJ\"\n",
        "print(str1.upper())"
      ],
      "metadata": {
        "colab": {
          "base_uri": "https://localhost:8080/"
        },
        "id": "wKln5-llqxJd",
        "outputId": "602cb51e-0de9-46c3-db94-7964c099e839"
      },
      "execution_count": null,
      "outputs": [
        {
          "output_type": "stream",
          "name": "stdout",
          "text": [
            "ABCDERGHIJ\n"
          ]
        }
      ]
    },
    {
      "cell_type": "markdown",
      "source": [
        "# lower(): The lower() method converts a string to lower case."
      ],
      "metadata": {
        "id": "4eiWmLIarLqi"
      }
    },
    {
      "cell_type": "code",
      "source": [
        "str2=\"ABCdefGHIJ\"\n",
        "print(str2.lower())"
      ],
      "metadata": {
        "colab": {
          "base_uri": "https://localhost:8080/"
        },
        "id": "Lo2ks0TGrVla",
        "outputId": "a89f84b1-0f01-47fe-adbe-beb82ee02abd"
      },
      "execution_count": null,
      "outputs": [
        {
          "output_type": "stream",
          "name": "stdout",
          "text": [
            "abcdefghij\n"
          ]
        }
      ]
    },
    {
      "cell_type": "markdown",
      "source": [
        "# strip(): The strip() method removes any white spaces before and after the string"
      ],
      "metadata": {
        "id": "XfRu-tEMrwMI"
      }
    },
    {
      "cell_type": "code",
      "source": [
        "str3=\"   Aashish GOLU   \"\n",
        "print(str3.strip())"
      ],
      "metadata": {
        "colab": {
          "base_uri": "https://localhost:8080/"
        },
        "id": "YWsO3RF4r8zo",
        "outputId": "d98a222a-3e86-42b0-d223-85b03748cedf"
      },
      "execution_count": null,
      "outputs": [
        {
          "output_type": "stream",
          "name": "stdout",
          "text": [
            "Aashish GOLU\n"
          ]
        }
      ]
    },
    {
      "cell_type": "markdown",
      "source": [
        "# rstrip(): The rstrip() removes any trailing characters. Example:"
      ],
      "metadata": {
        "id": "cs3pOAkqspH-"
      }
    },
    {
      "cell_type": "code",
      "source": [
        "str4 = \"Hello !!!!\"\n",
        "print(str4.rstrip(\"!\"))"
      ],
      "metadata": {
        "colab": {
          "base_uri": "https://localhost:8080/"
        },
        "id": "MojmE_BitLDg",
        "outputId": "8f70454e-7a1f-49b2-998a-8cbabfb83fc4"
      },
      "execution_count": null,
      "outputs": [
        {
          "output_type": "stream",
          "name": "stdout",
          "text": [
            "Hello \n"
          ]
        }
      ]
    },
    {
      "cell_type": "markdown",
      "source": [
        "# replace(): The replace() method replaces all occurences of a string with another string."
      ],
      "metadata": {
        "id": "PfbFEXORtdDO"
      }
    },
    {
      "cell_type": "code",
      "source": [
        "str5=\" Silver Spoon\"\n",
        "print(str5.replace(\"Sp\", \"M\"))"
      ],
      "metadata": {
        "colab": {
          "base_uri": "https://localhost:8080/"
        },
        "id": "9EnQPyKbttP-",
        "outputId": "01e4e677-ea10-4348-d42c-7bef8f6bfc56"
      },
      "execution_count": null,
      "outputs": [
        {
          "output_type": "stream",
          "name": "stdout",
          "text": [
            " Silver Moon\n"
          ]
        }
      ]
    },
    {
      "cell_type": "markdown",
      "source": [
        "# split(): The split() method splits the given string at the specified instance and  returns the separated strings as list items."
      ],
      "metadata": {
        "id": "g62B0PQfuRB7"
      }
    },
    {
      "cell_type": "code",
      "source": [
        "str6 = \"Silver Spoon\"\n",
        "print(str6.split(\" \"))"
      ],
      "metadata": {
        "colab": {
          "base_uri": "https://localhost:8080/"
        },
        "id": "qdl7Z7NMuiy7",
        "outputId": "131e9428-5cc3-46c0-8c80-59a9d9495985"
      },
      "execution_count": null,
      "outputs": [
        {
          "output_type": "stream",
          "name": "stdout",
          "text": [
            "['Silver', 'Spoon']\n"
          ]
        }
      ]
    },
    {
      "cell_type": "markdown",
      "source": [
        "# capitalize(): The capitalize() method turns only the first character of the string to uppercase and the rest other characters of the string are turned to lowercase. the string has no effect if the first character is already uppercase."
      ],
      "metadata": {
        "id": "23YaJz2Gu0Y1"
      }
    },
    {
      "cell_type": "code",
      "source": [
        "str1 =\"hello\"\n",
        "casstr1 =str1.capitalize()\n",
        "print(casstr1)\n",
        "\n",
        "str2 = \"hello WorlD\"\n",
        "casstr2 = str2.capitalize()\n",
        "print(casstr2)"
      ],
      "metadata": {
        "colab": {
          "base_uri": "https://localhost:8080/"
        },
        "id": "tTC6tWR4vMMC",
        "outputId": "457185a7-57be-41db-9e22-833fde224d38"
      },
      "execution_count": null,
      "outputs": [
        {
          "output_type": "stream",
          "name": "stdout",
          "text": [
            "Hello\n",
            "Hello world\n"
          ]
        }
      ]
    },
    {
      "cell_type": "markdown",
      "source": [
        "# center(): The center() method aligns the string to the center as per the parameters given by the user."
      ],
      "metadata": {
        "id": "bJ13Q4hhvtr5"
      }
    },
    {
      "cell_type": "code",
      "source": [
        "str1 = \"Werlcome to  the Console!!!\"\n",
        "print(str1.center(50))"
      ],
      "metadata": {
        "colab": {
          "base_uri": "https://localhost:8080/"
        },
        "id": "JFCURwr-v9Cm",
        "outputId": "815fa3bd-2c8d-4ffc-9ff0-bcd0d5aaf402"
      },
      "execution_count": null,
      "outputs": [
        {
          "output_type": "stream",
          "name": "stdout",
          "text": [
            "           Werlcome to  the Console!!!            \n"
          ]
        }
      ]
    },
    {
      "cell_type": "code",
      "source": [
        "str2 = \"Welcome to the Console!!!\"\n",
        "print(str2.center(50, \".\"))"
      ],
      "metadata": {
        "colab": {
          "base_uri": "https://localhost:8080/"
        },
        "id": "oV0KM7J0wQWw",
        "outputId": "42939d87-d5fe-4b08-89c5-59c420a99004"
      },
      "execution_count": null,
      "outputs": [
        {
          "output_type": "stream",
          "name": "stdout",
          "text": [
            "............Welcome to the Console!!!.............\n"
          ]
        }
      ]
    },
    {
      "cell_type": "markdown",
      "source": [
        "# count(): The count() method returns the number of times the given value has occurred within the given string"
      ],
      "metadata": {
        "id": "t1ZbhJ-Owsg8"
      }
    },
    {
      "cell_type": "code",
      "source": [
        "str2 = \"Abracadabra\"\n",
        "print(str2.count(\"a\"))"
      ],
      "metadata": {
        "colab": {
          "base_uri": "https://localhost:8080/"
        },
        "id": "DobuTUXowR8w",
        "outputId": "dbcb68e4-9956-4b22-f945-fef4940cf45e"
      },
      "execution_count": null,
      "outputs": [
        {
          "output_type": "stream",
          "name": "stdout",
          "text": [
            "4\n"
          ]
        }
      ]
    },
    {
      "cell_type": "markdown",
      "source": [
        "# endswith(): The endswith() method checks if the string ends with a given value. if yes then return True, else return False."
      ],
      "metadata": {
        "id": "HAmHvWQ9xHSr"
      }
    },
    {
      "cell_type": "code",
      "source": [
        "str1 = \"Welcome to the Console !!!!\"\n",
        "print(str1.endswith(\"!\"))"
      ],
      "metadata": {
        "colab": {
          "base_uri": "https://localhost:8080/"
        },
        "id": "8loQ_h_UxZ5o",
        "outputId": "b32ad554-3e97-4541-bb1f-0b759e58077e"
      },
      "execution_count": null,
      "outputs": [
        {
          "output_type": "stream",
          "name": "stdout",
          "text": [
            "True\n"
          ]
        }
      ]
    },
    {
      "cell_type": "code",
      "source": [
        "str2 = \"Welcome to the Console !!!\"\n",
        "print(str2.endswith(\"to\", 4, 10))"
      ],
      "metadata": {
        "colab": {
          "base_uri": "https://localhost:8080/"
        },
        "id": "T-CsJn3uxuUY",
        "outputId": "c0c45691-3fb6-49b1-b7ec-6983ab5e0d75"
      },
      "execution_count": null,
      "outputs": [
        {
          "output_type": "stream",
          "name": "stdout",
          "text": [
            "True\n"
          ]
        }
      ]
    },
    {
      "cell_type": "markdown",
      "source": [
        "# find(): The find() method searches for  the  first occurrence of the given value and returns the index where it is present. if given value is absent from the string then return"
      ],
      "metadata": {
        "id": "JWeLUiCjz3o-"
      }
    },
    {
      "cell_type": "code",
      "source": [
        "str1 = \"He's name is Dan. He is an honest man.\"\n",
        "print(str1.find(\"man\"))"
      ],
      "metadata": {
        "colab": {
          "base_uri": "https://localhost:8080/"
        },
        "id": "JLJ28wyN0L2w",
        "outputId": "d51a5a76-216c-45b2-f043-2ddb37a61a8e"
      },
      "execution_count": null,
      "outputs": [
        {
          "output_type": "stream",
          "name": "stdout",
          "text": [
            "34\n"
          ]
        }
      ]
    },
    {
      "cell_type": "markdown",
      "source": [
        "# index(): The index() method searches for the first occurrence of the given value and returns the index where it is present. if given value is absent from the string then raise an exception."
      ],
      "metadata": {
        "id": "0EY7YVsA1FqC"
      }
    },
    {
      "cell_type": "code",
      "source": [
        "str1= \"He's name is Dan. is an honest man.\"\n",
        "print(str1.index(\"Dan\"))"
      ],
      "metadata": {
        "colab": {
          "base_uri": "https://localhost:8080/"
        },
        "id": "mH1pJ5nT1dH1",
        "outputId": "f2106e65-35df-4df0-8585-8b48c8909d91"
      },
      "execution_count": null,
      "outputs": [
        {
          "output_type": "stream",
          "name": "stdout",
          "text": [
            "13\n"
          ]
        }
      ]
    },
    {
      "cell_type": "code",
      "source": [
        "#str2 = \"He's name is Dan. Dan is an honest man.\"\n",
        "#print(str2.index(\"Daniel\"))\n",
        "# ValueError: substring not found"
      ],
      "metadata": {
        "id": "HcRjWD4118sH"
      },
      "execution_count": null,
      "outputs": []
    },
    {
      "cell_type": "markdown",
      "source": [
        "# isalnum(): The isalnum() method retrns True only if the entire string only consists of A-Z, a-z, 0-9. if any other characters or punctuations are present, then it returns false."
      ],
      "metadata": {
        "id": "6yI9XNX32ms9"
      }
    },
    {
      "cell_type": "code",
      "source": [
        "str1 =\"WelcomeToTheConsole\"\n",
        "print(str1.isalnum())"
      ],
      "metadata": {
        "colab": {
          "base_uri": "https://localhost:8080/"
        },
        "id": "VQuo4jvH3BtS",
        "outputId": "9454877a-68da-4510-9489-caaa54504e6d"
      },
      "execution_count": null,
      "outputs": [
        {
          "output_type": "stream",
          "name": "stdout",
          "text": [
            "True\n"
          ]
        }
      ]
    },
    {
      "cell_type": "markdown",
      "source": [
        "# isalpha() : The isalnum() method returns True only if the entire string only consists of A-Z, a-z. If any other characters or punctuations or numbers(0-9) are present, then it returns False."
      ],
      "metadata": {
        "id": "NI2nOoZX4OLt"
      }
    },
    {
      "cell_type": "code",
      "source": [
        "ste1= \"Welcome\"\n",
        "print(ste1.isalpha())"
      ],
      "metadata": {
        "colab": {
          "base_uri": "https://localhost:8080/"
        },
        "id": "fSbwIZHL4Uxm",
        "outputId": "d7fc8bbc-c296-4d3f-c638-75259f129d04"
      },
      "execution_count": null,
      "outputs": [
        {
          "output_type": "stream",
          "name": "stdout",
          "text": [
            "True\n"
          ]
        }
      ]
    },
    {
      "cell_type": "markdown",
      "source": [
        "# islower() : The islower() method returns True if all the characters in the string are lower case, else it returns False."
      ],
      "metadata": {
        "id": "P_UfGg5c4xPa"
      }
    },
    {
      "cell_type": "code",
      "source": [
        "str1 = \"hello world\"\n",
        "print(str1.islower())"
      ],
      "metadata": {
        "colab": {
          "base_uri": "https://localhost:8080/"
        },
        "id": "9kdMiIVB40e3",
        "outputId": "b50d81e1-5b47-4343-a2e6-4b2e6c2f9955"
      },
      "execution_count": null,
      "outputs": [
        {
          "output_type": "stream",
          "name": "stdout",
          "text": [
            "True\n"
          ]
        }
      ]
    },
    {
      "cell_type": "markdown",
      "source": [
        "isprintable() : The isprintable() method returns True if all the values within the given string are printable, if not, then return False."
      ],
      "metadata": {
        "id": "xtPN_TdS5MK3"
      }
    },
    {
      "cell_type": "code",
      "source": [
        "str1 = \"We wish you a Merry Christmas\"\n",
        "print(str1.isprintable())"
      ],
      "metadata": {
        "colab": {
          "base_uri": "https://localhost:8080/"
        },
        "id": "YITL4eZD5OK_",
        "outputId": "deec4453-f477-4403-a9c4-d29057056aeb"
      },
      "execution_count": null,
      "outputs": [
        {
          "output_type": "stream",
          "name": "stdout",
          "text": [
            "True\n"
          ]
        }
      ]
    },
    {
      "cell_type": "markdown",
      "source": [
        "# isspace() : The isspace() method returns True only and only if the string contains white spaces, else returns False."
      ],
      "metadata": {
        "id": "Gr6_894k5TDY"
      }
    },
    {
      "cell_type": "code",
      "source": [
        "str1 = \"        \"       #using Spacebar\n",
        "print(str1.isspace())\n",
        "str2 = \"        \"       #using Tab\n",
        "print(str2.isspace())"
      ],
      "metadata": {
        "colab": {
          "base_uri": "https://localhost:8080/"
        },
        "id": "x9F8K3Nm5Wa3",
        "outputId": "eb6c336b-2f19-4448-e2c2-d351e876d6ad"
      },
      "execution_count": null,
      "outputs": [
        {
          "output_type": "stream",
          "name": "stdout",
          "text": [
            "True\n",
            "True\n"
          ]
        }
      ]
    },
    {
      "cell_type": "markdown",
      "source": [
        "# istitle() : The istitile() returns True only if the first letter of each word of the string is capitalized, else it returns False."
      ],
      "metadata": {
        "id": "6EYY1DGp5aBu"
      }
    },
    {
      "cell_type": "code",
      "source": [
        "str1 = \"World Health Organization\"\n",
        "print(str1.istitle())"
      ],
      "metadata": {
        "colab": {
          "base_uri": "https://localhost:8080/"
        },
        "id": "_hJyPmOv5cqS",
        "outputId": "457d838e-4a2f-4a47-ab57-599518ff4a27"
      },
      "execution_count": null,
      "outputs": [
        {
          "output_type": "stream",
          "name": "stdout",
          "text": [
            "True\n"
          ]
        }
      ]
    },
    {
      "cell_type": "code",
      "source": [
        "str2 = \"To kill a Mocking bird\"\n",
        "print(str2.istitle())"
      ],
      "metadata": {
        "colab": {
          "base_uri": "https://localhost:8080/"
        },
        "id": "_TgE9bBx5hMP",
        "outputId": "0eb7948d-4be9-4a18-cdd2-b702880a270c"
      },
      "execution_count": null,
      "outputs": [
        {
          "output_type": "stream",
          "name": "stdout",
          "text": [
            "False\n"
          ]
        }
      ]
    },
    {
      "cell_type": "markdown",
      "source": [
        "# isupper() : The isupper() method returns True if all the characters in the string are upper case, else it returns False."
      ],
      "metadata": {
        "id": "akr_hgOh5j51"
      }
    },
    {
      "cell_type": "code",
      "source": [
        "str1 = \"WORLD HEALTH ORGANIZATION\"\n",
        "print(str1.isupper())"
      ],
      "metadata": {
        "colab": {
          "base_uri": "https://localhost:8080/"
        },
        "id": "K5xxwH1z5nfE",
        "outputId": "3c2fc4d7-c501-484a-8cf4-406944861921"
      },
      "execution_count": null,
      "outputs": [
        {
          "output_type": "stream",
          "name": "stdout",
          "text": [
            "True\n"
          ]
        }
      ]
    },
    {
      "cell_type": "markdown",
      "source": [
        "# startswith() : The endswith() method checks if the string starts with a given value. If yes then return True, else return False"
      ],
      "metadata": {
        "id": "WTIlg8Ef5qMw"
      }
    },
    {
      "cell_type": "code",
      "source": [
        "str1 = \"Python is a Interpreted Language\"\n",
        "print(str1.startswith(\"Python\"))"
      ],
      "metadata": {
        "colab": {
          "base_uri": "https://localhost:8080/"
        },
        "id": "j3lBcG195tIF",
        "outputId": "d8f070fb-67ba-4c5e-d53c-0345020927af"
      },
      "execution_count": null,
      "outputs": [
        {
          "output_type": "stream",
          "name": "stdout",
          "text": [
            "True\n"
          ]
        }
      ]
    },
    {
      "cell_type": "markdown",
      "source": [
        "# swapcase() :The swapcase() method changes the character casing of the string. Upper case are converted to lower case and lower case to upper case."
      ],
      "metadata": {
        "id": "8v0oX7Go5yEQ"
      }
    },
    {
      "cell_type": "code",
      "source": [
        "str1 = \"Python is a Interpreted Language\"\n",
        "print(str1.swapcase())"
      ],
      "metadata": {
        "colab": {
          "base_uri": "https://localhost:8080/"
        },
        "id": "_ho19Y4s51K-",
        "outputId": "b4edf387-6def-425f-b0a7-da6c770924c3"
      },
      "execution_count": null,
      "outputs": [
        {
          "output_type": "stream",
          "name": "stdout",
          "text": [
            "pYTHON IS A iNTERPRETED lANGUAGE\n"
          ]
        }
      ]
    },
    {
      "cell_type": "markdown",
      "source": [
        "# title() : The title() method capitalizes each letter of the word within the string."
      ],
      "metadata": {
        "id": "kOtqQCou53-w"
      }
    },
    {
      "cell_type": "code",
      "source": [
        "str1 = \"He's name is Dan. Dan is an honest man.\"\n",
        "print(str1.title())"
      ],
      "metadata": {
        "colab": {
          "base_uri": "https://localhost:8080/"
        },
        "id": "WrgQWFph57Md",
        "outputId": "5bb831f2-39d5-4bd4-a5dc-397946d01ace"
      },
      "execution_count": null,
      "outputs": [
        {
          "output_type": "stream",
          "name": "stdout",
          "text": [
            "He'S Name Is Dan. Dan Is An Honest Man.\n"
          ]
        }
      ]
    }
  ]
}
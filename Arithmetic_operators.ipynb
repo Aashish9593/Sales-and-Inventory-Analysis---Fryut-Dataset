{
  "nbformat": 4,
  "nbformat_minor": 0,
  "metadata": {
    "colab": {
      "provenance": [],
      "authorship_tag": "ABX9TyPhEVA7WYgx/yMqpMPrqZ7T",
      "include_colab_link": true
    },
    "kernelspec": {
      "name": "python3",
      "display_name": "Python 3"
    },
    "language_info": {
      "name": "python"
    }
  },
  "cells": [
    {
      "cell_type": "markdown",
      "metadata": {
        "id": "view-in-github",
        "colab_type": "text"
      },
      "source": [
        "<a href=\"https://colab.research.google.com/github/Aashish9593/Sales-and-Inventory-Analysis---Fryut-Dataset/blob/main/Arithmetic_operators.ipynb\" target=\"_parent\"><img src=\"https://colab.research.google.com/assets/colab-badge.svg\" alt=\"Open In Colab\"/></a>"
      ]
    },
    {
      "cell_type": "code",
      "execution_count": 1,
      "metadata": {
        "colab": {
          "base_uri": "https://localhost:8080/"
        },
        "id": "fgclq3MdsBMe",
        "outputId": "c1f1dafb-c21f-4dde-97b6-37ddf4a7b7c9"
      },
      "outputs": [
        {
          "output_type": "execute_result",
          "data": {
            "text/plain": [
              "22"
            ]
          },
          "metadata": {},
          "execution_count": 1
        }
      ],
      "source": [
        "# Addition +\n",
        "15+7"
      ]
    },
    {
      "cell_type": "code",
      "source": [
        "# Subtraction -\n",
        "15-7"
      ],
      "metadata": {
        "colab": {
          "base_uri": "https://localhost:8080/"
        },
        "id": "4JPGVMDisRrK",
        "outputId": "b3492c9f-b6c2-4ef8-f627-8c6fc9cd0b40"
      },
      "execution_count": 2,
      "outputs": [
        {
          "output_type": "execute_result",
          "data": {
            "text/plain": [
              "8"
            ]
          },
          "metadata": {},
          "execution_count": 2
        }
      ]
    },
    {
      "cell_type": "code",
      "source": [
        "# Multiplication *\n",
        "5*7"
      ],
      "metadata": {
        "colab": {
          "base_uri": "https://localhost:8080/"
        },
        "id": "ZVPCdTYbsZSx",
        "outputId": "f0d45a36-9f5a-4617-a7a2-ff20437dcead"
      },
      "execution_count": 3,
      "outputs": [
        {
          "output_type": "execute_result",
          "data": {
            "text/plain": [
              "35"
            ]
          },
          "metadata": {},
          "execution_count": 3
        }
      ]
    },
    {
      "cell_type": "code",
      "source": [
        "# Exponential **\n",
        "5**3"
      ],
      "metadata": {
        "colab": {
          "base_uri": "https://localhost:8080/"
        },
        "id": "ZTEu1FRGsgU7",
        "outputId": "0854d44b-9729-4044-ab7d-c9b8cf2a417c"
      },
      "execution_count": 5,
      "outputs": [
        {
          "output_type": "execute_result",
          "data": {
            "text/plain": [
              "125"
            ]
          },
          "metadata": {},
          "execution_count": 5
        }
      ]
    },
    {
      "cell_type": "code",
      "source": [
        "# Division /\n",
        "5/3"
      ],
      "metadata": {
        "colab": {
          "base_uri": "https://localhost:8080/"
        },
        "id": "09sbAmd3sqNb",
        "outputId": "5854f401-c3d5-4f33-b635-3cfe7069364b"
      },
      "execution_count": 6,
      "outputs": [
        {
          "output_type": "execute_result",
          "data": {
            "text/plain": [
              "1.6666666666666667"
            ]
          },
          "metadata": {},
          "execution_count": 6
        }
      ]
    },
    {
      "cell_type": "code",
      "source": [
        "# Modulus %\n",
        "15%7"
      ],
      "metadata": {
        "colab": {
          "base_uri": "https://localhost:8080/"
        },
        "id": "KCJE_EZusvLp",
        "outputId": "b2cc1947-0d96-4292-a119-2e3c6ae69254"
      },
      "execution_count": 7,
      "outputs": [
        {
          "output_type": "execute_result",
          "data": {
            "text/plain": [
              "1"
            ]
          },
          "metadata": {},
          "execution_count": 7
        }
      ]
    },
    {
      "cell_type": "code",
      "source": [
        "# Floor Division //\n",
        "15//7"
      ],
      "metadata": {
        "colab": {
          "base_uri": "https://localhost:8080/"
        },
        "id": "K5Xw5qkys0yx",
        "outputId": "83232cfe-24af-4653-b743-a48eb5852f5e"
      },
      "execution_count": 8,
      "outputs": [
        {
          "output_type": "execute_result",
          "data": {
            "text/plain": [
              "2"
            ]
          },
          "metadata": {},
          "execution_count": 8
        }
      ]
    },
    {
      "cell_type": "code",
      "source": [
        "a = 15\n",
        "\n",
        "b = 7\n",
        "\n",
        "ans1 = a + b\n",
        "print(\"Additions of\" ,a, \"and\" ,b, \"is\", ans1)"
      ],
      "metadata": {
        "colab": {
          "base_uri": "https://localhost:8080/"
        },
        "id": "oePBN_7es6lA",
        "outputId": "4e47b668-0112-48f0-be20-c669e16651dc"
      },
      "execution_count": 11,
      "outputs": [
        {
          "output_type": "stream",
          "name": "stdout",
          "text": [
            "Additions of 15 and 7 is 22\n"
          ]
        }
      ]
    },
    {
      "cell_type": "code",
      "source": [
        "a = 15\n",
        "b = 7\n",
        "\n",
        "ans2 = a - b\n",
        "print(\"Subtraction of\" ,a, \"and\" ,b, \"is\", ans2)"
      ],
      "metadata": {
        "colab": {
          "base_uri": "https://localhost:8080/"
        },
        "id": "C3gtGleztqsz",
        "outputId": "fbacfb09-1d10-4c87-92d2-bcd091bfaaaa"
      },
      "execution_count": 12,
      "outputs": [
        {
          "output_type": "stream",
          "name": "stdout",
          "text": [
            "Subtraction of 15 and 7 is 8\n"
          ]
        }
      ]
    },
    {
      "cell_type": "code",
      "source": [
        "a = 15\n",
        "b = 7\n",
        "\n",
        "ans3 = a*b\n",
        "print(\"Multiplication of\" ,a, \"and\" ,b, \"is\", ans3)\n"
      ],
      "metadata": {
        "colab": {
          "base_uri": "https://localhost:8080/"
        },
        "id": "hEzY8EVRuFa2",
        "outputId": "9cf56b02-d9ea-4432-c9af-aac881149c88"
      },
      "execution_count": 13,
      "outputs": [
        {
          "output_type": "stream",
          "name": "stdout",
          "text": [
            "Multiplication of 15 and 7 is 105\n"
          ]
        }
      ]
    },
    {
      "cell_type": "code",
      "source": [
        "a = 15\n",
        "b = 7\n",
        "ans4 = a / b\n",
        "print(\"Division of\" ,a, \"and\" ,b, \"is\", ans4)"
      ],
      "metadata": {
        "colab": {
          "base_uri": "https://localhost:8080/"
        },
        "id": "cd_TICmwu3XT",
        "outputId": "556821a0-8bcf-4528-f63f-024418f4fea3"
      },
      "execution_count": 16,
      "outputs": [
        {
          "output_type": "stream",
          "name": "stdout",
          "text": [
            "Division of 15 and 7 is 2.142857142857143\n"
          ]
        }
      ]
    },
    {
      "cell_type": "code",
      "source": [
        "a = 15\n",
        "b = 7\n",
        "ans5 = a % b\n",
        "print(\"Modulus of\" ,a, \"and\" ,b, \"is\", ans5)"
      ],
      "metadata": {
        "colab": {
          "base_uri": "https://localhost:8080/"
        },
        "id": "ehqBDX-JvQw_",
        "outputId": "27a65f5e-5424-4ecb-bd18-0a01eb5b1774"
      },
      "execution_count": 17,
      "outputs": [
        {
          "output_type": "stream",
          "name": "stdout",
          "text": [
            "Modulus of 15 and 7 is 1\n"
          ]
        }
      ]
    },
    {
      "cell_type": "code",
      "source": [
        "a = 15\n",
        "b = 7\n",
        "ans6 = a // b\n",
        "print(\"Floor Division of\" ,a, \"and\" ,b, \"is\", ans6)"
      ],
      "metadata": {
        "id": "lSw0441fvmE1",
        "outputId": "a8d8637d-6beb-4233-e489-3271d9265c55",
        "colab": {
          "base_uri": "https://localhost:8080/"
        }
      },
      "execution_count": 18,
      "outputs": [
        {
          "output_type": "stream",
          "name": "stdout",
          "text": [
            "Floor Division of 15 and 7 is 2\n"
          ]
        }
      ]
    }
  ]
}